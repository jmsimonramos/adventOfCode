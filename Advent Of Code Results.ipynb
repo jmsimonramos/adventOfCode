{
 "cells": [
  {
   "cell_type": "code",
   "execution_count": 1,
   "metadata": {},
   "outputs": [],
   "source": [
    "def getInputData(filename):\n",
    "    with open (\"Input/\"+filename, \"r\", encoding=\"utf-8\") as file:\n",
    "        data = [x.strip() for x in file.readlines()]\n",
    "    return data"
   ]
  },
  {
   "cell_type": "markdown",
   "metadata": {
    "heading_collapsed": true
   },
   "source": [
    "## Día 1"
   ]
  },
  {
   "cell_type": "code",
   "execution_count": null,
   "metadata": {
    "hidden": true
   },
   "outputs": [],
   "source": [
    "data1 = getInputData()"
   ]
  },
  {
   "cell_type": "markdown",
   "metadata": {
    "heading_collapsed": true,
    "hidden": true
   },
   "source": [
    "### Parte 1"
   ]
  },
  {
   "cell_type": "code",
   "execution_count": 19,
   "metadata": {
    "hidden": true
   },
   "outputs": [
    {
     "name": "stdout",
     "output_type": "stream",
     "text": [
      "El resultado es: 482811\n"
     ]
    }
   ],
   "source": [
    "for item in input_data:\n",
    "    complementary = 2020 - item\n",
    "    if complementary in input_data:\n",
    "        print(f\"El resultado es: {item * complementary}\")\n",
    "        break"
   ]
  },
  {
   "cell_type": "markdown",
   "metadata": {
    "heading_collapsed": true,
    "hidden": true
   },
   "source": [
    "### Parte 2"
   ]
  },
  {
   "cell_type": "code",
   "execution_count": 23,
   "metadata": {
    "hidden": true
   },
   "outputs": [
    {
     "name": "stdout",
     "output_type": "stream",
     "text": [
      "El resultado es: 193171814\n",
      "El resultado es: 193171814\n",
      "El resultado es: 193171814\n",
      "El resultado es: 193171814\n",
      "El resultado es: 193171814\n",
      "El resultado es: 193171814\n"
     ]
    }
   ],
   "source": [
    "for item1 in input_data:\n",
    "    for item2 in input_data:\n",
    "        for item3 in input_data:\n",
    "            if item1 + item2 + item3 == 2020:\n",
    "                print(f\"El resultado es: {item1 * item2 * item3}\")"
   ]
  },
  {
   "cell_type": "markdown",
   "metadata": {
    "heading_collapsed": true
   },
   "source": [
    "## Día 2"
   ]
  },
  {
   "cell_type": "code",
   "execution_count": 30,
   "metadata": {
    "hidden": true
   },
   "outputs": [],
   "source": [
    "data2 = getInputData(\"input2.txt\")"
   ]
  },
  {
   "cell_type": "markdown",
   "metadata": {
    "heading_collapsed": true,
    "hidden": true
   },
   "source": [
    "### Parte 1"
   ]
  },
  {
   "cell_type": "code",
   "execution_count": 31,
   "metadata": {
    "hidden": true
   },
   "outputs": [
    {
     "name": "stdout",
     "output_type": "stream",
     "text": [
      "El número de contraseñas válidas es: 666\n"
     ]
    }
   ],
   "source": [
    "validPassword = 0\n",
    "for password in data2:\n",
    "    policyPasswordSplit = password.split(\":\")\n",
    "    policy = policyPasswordSplit[0]\n",
    "    password = policyPasswordSplit[1]\n",
    "    \n",
    "    minCant, maxCant = policy.split(\" \")[0].split(\"-\")\n",
    "    minCant, maxCant = int(minCant), int(maxCant)\n",
    "    \n",
    "    letter = policy.split(\" \")[1]\n",
    "    countLetter = 0\n",
    "    for character in password:\n",
    "        if character == letter: \n",
    "            countLetter += 1\n",
    "    if (countLetter >= minCant and countLetter <= maxCant): \n",
    "        validPassword += 1\n",
    "    \n",
    "print(f\"El número de contraseñas válidas es: {validPassword}\")"
   ]
  },
  {
   "cell_type": "markdown",
   "metadata": {
    "heading_collapsed": true,
    "hidden": true
   },
   "source": [
    "### Parte 2"
   ]
  },
  {
   "cell_type": "code",
   "execution_count": 61,
   "metadata": {
    "hidden": true
   },
   "outputs": [
    {
     "data": {
      "text/plain": [
       "['2-8 t: pncmjxlvckfbtrjh',\n",
       " '8-9 l: lzllllldsl',\n",
       " '3-11 c: ccchcccccclxnkcmc',\n",
       " '3-10 h: xcvxkdqshh',\n",
       " '4-5 s: gssss',\n",
       " '7-14 m: mmcmqmmxmmmnmmrmcxc',\n",
       " '3-12 n: grnxnbsmzttnzbnnn',\n",
       " '5-9 j: ddqwznjhjcjn',\n",
       " '8-9 d: fddddddmd',\n",
       " '6-8 t: qtlwttsqg']"
      ]
     },
     "execution_count": 61,
     "metadata": {},
     "output_type": "execute_result"
    }
   ],
   "source": [
    "data2[:10]"
   ]
  },
  {
   "cell_type": "code",
   "execution_count": 67,
   "metadata": {
    "hidden": true
   },
   "outputs": [
    {
     "name": "stdout",
     "output_type": "stream",
     "text": [
      "El número de contraseñas válidas es: 670\n"
     ]
    }
   ],
   "source": [
    "validPassword = 0\n",
    "for password in data2:\n",
    "    policyPasswordSplit = password.split(\":\")\n",
    "    policy = policyPasswordSplit[0]\n",
    "    password = list(policyPasswordSplit[1].strip())\n",
    "    \n",
    "    pos1, pos2 = policy.split(\" \")[0].split(\"-\")\n",
    "    pos1, pos2 = int(pos1), int(pos2)\n",
    "    \n",
    "    letter = policy.split(\" \")[1]\n",
    "    \n",
    "    if password[pos1 - 1] == letter and password[pos2 - 1] != letter:\n",
    "        validPassword += 1\n",
    "    if password[pos1 - 1] != letter and password[pos2 - 1] == letter:\n",
    "        validPassword += 1\n",
    "        \n",
    "print(f\"El número de contraseñas válidas es: {validPassword}\")"
   ]
  },
  {
   "cell_type": "markdown",
   "metadata": {
    "heading_collapsed": true
   },
   "source": [
    "## Dia 3"
   ]
  },
  {
   "cell_type": "code",
   "execution_count": 69,
   "metadata": {
    "hidden": true
   },
   "outputs": [],
   "source": [
    "data3 = getInputData(\"input3.txt\")"
   ]
  },
  {
   "cell_type": "markdown",
   "metadata": {
    "heading_collapsed": true,
    "hidden": true
   },
   "source": [
    "### Parte 1"
   ]
  },
  {
   "cell_type": "code",
   "execution_count": 133,
   "metadata": {
    "hidden": true
   },
   "outputs": [
    {
     "name": "stdout",
     "output_type": "stream",
     "text": [
      "El resultado es: 276\n"
     ]
    }
   ],
   "source": [
    "X,Y = 0,0\n",
    "arboles = 0\n",
    "for line in data3:\n",
    "    if data3[X][Y] == \"#\":\n",
    "        arboles += 1\n",
    "    X += 1\n",
    "    Y = (Y + 3) % len(line)\n",
    "\n",
    "print(f\"El resultado es: {arboles}\")"
   ]
  },
  {
   "cell_type": "markdown",
   "metadata": {
    "heading_collapsed": true,
    "hidden": true
   },
   "source": [
    "### Parte 2"
   ]
  },
  {
   "cell_type": "code",
   "execution_count": 168,
   "metadata": {
    "hidden": true
   },
   "outputs": [],
   "source": [
    "class case (object):\n",
    "    def __init__ (self, movX, movY):\n",
    "        self.movX = movX\n",
    "        self.movY = movY\n",
    "        self.X = 0\n",
    "        self.Y = 0\n",
    "        self.arboles = 0\n",
    "    \n",
    "    def avanza(self, longitud):\n",
    "        self.X = self.X + self.movX\n",
    "        self.Y = (self.Y + self.movY) % longitud"
   ]
  },
  {
   "cell_type": "code",
   "execution_count": 174,
   "metadata": {
    "hidden": true
   },
   "outputs": [
    {
     "name": "stdout",
     "output_type": "stream",
     "text": [
      "Caso1: 100; Caso2: 276; Caso3: 85; Caso4: 90; Caso5: 37\n",
      "El resultado es: 7812180000\n"
     ]
    }
   ],
   "source": [
    "c1 = case (1,1)\n",
    "c2 = case (1,3)\n",
    "c3 = case (1,5)\n",
    "c4 = case (1,7)\n",
    "c5 = case (2,1)\n",
    "for line in data3:\n",
    "    try:\n",
    "        if data3[c1.X][c1.Y] == \"#\":\n",
    "            c1.arboles += 1       \n",
    "        if data3[c2.X][c2.Y] == \"#\":\n",
    "            c2.arboles += 1\n",
    "        if data3[c3.X][c3.Y] == \"#\":\n",
    "            c3.arboles += 1\n",
    "        if data3[c4.X][c4.Y] == \"#\":\n",
    "            c4.arboles += 1\n",
    "        if data3[c5.X][c5.Y] == \"#\":\n",
    "            c5.arboles += 1\n",
    "    except IndexError:\n",
    "        pass\n",
    "\n",
    "    c1.avanza(len(line)), c2.avanza(len(line)), c3.avanza(len(line)), c4.avanza(len(line)), c5.avanza(len(line))\n",
    "\n",
    "print(f\"Caso1: {c1.arboles}; Caso2: {c2.arboles}; Caso3: {c3.arboles}; Caso4: {c4.arboles}; Caso5: {c5.arboles}\")\n",
    "print(f\"El resultado es: {c1.arboles * c2.arboles * c3.arboles * c4.arboles * c5.arboles}\")"
   ]
  }
 ],
 "metadata": {
  "kernelspec": {
   "display_name": "Python 3",
   "language": "python",
   "name": "python3"
  },
  "language_info": {
   "codemirror_mode": {
    "name": "ipython",
    "version": 3
   },
   "file_extension": ".py",
   "mimetype": "text/x-python",
   "name": "python",
   "nbconvert_exporter": "python",
   "pygments_lexer": "ipython3",
   "version": "3.7.9-final"
  }
 },
 "nbformat": 4,
 "nbformat_minor": 4
}