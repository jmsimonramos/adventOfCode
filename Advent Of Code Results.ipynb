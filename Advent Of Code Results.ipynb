{
 "cells": [
  {
   "cell_type": "code",
   "execution_count": 1,
   "metadata": {},
   "outputs": [],
   "source": [
    "def getInputData(filename):\n",
    "    with open (\"Input/\"+filename, \"r\", encoding=\"utf-8\") as file:\n",
    "        data = [x.strip() for x in file.readlines()]\n",
    "    return data"
   ]
  },
  {
   "cell_type": "markdown",
   "metadata": {},
   "source": [
    "## Día 1"
   ]
  },
  {
   "cell_type": "code",
   "execution_count": 2,
   "metadata": {},
   "outputs": [],
   "source": [
    "data1 = getInputData(\"input1.txt\")\n",
    "data1 = [int(x) for x in data1]"
   ]
  },
  {
   "cell_type": "markdown",
   "metadata": {},
   "source": [
    "### Parte 1"
   ]
  },
  {
   "cell_type": "code",
   "execution_count": 3,
   "metadata": {},
   "outputs": [
    {
     "name": "stdout",
     "output_type": "stream",
     "text": [
      "El resultado es: 482811\n"
     ]
    }
   ],
   "source": [
    "for item in data1:\n",
    "    complementary = 2020 - item\n",
    "    if complementary in data1:\n",
    "        print(f\"El resultado es: {item * complementary}\")\n",
    "        break"
   ]
  },
  {
   "cell_type": "markdown",
   "metadata": {},
   "source": [
    "### Parte 2"
   ]
  },
  {
   "cell_type": "code",
   "execution_count": 4,
   "metadata": {},
   "outputs": [
    {
     "name": "stdout",
     "output_type": "stream",
     "text": [
      "El resultado es: 193171814\n",
      "El resultado es: 193171814\n",
      "El resultado es: 193171814\n",
      "El resultado es: 193171814\n",
      "El resultado es: 193171814\n",
      "El resultado es: 193171814\n"
     ]
    }
   ],
   "source": [
    "for item1 in data1:\n",
    "    for item2 in data1:\n",
    "        for item3 in data1:\n",
    "            if item1 + item2 + item3 == 2020:\n",
    "                print(f\"El resultado es: {item1 * item2 * item3}\")"
   ]
  },
  {
   "cell_type": "markdown",
   "metadata": {},
   "source": [
    "## Día 2"
   ]
  },
  {
   "cell_type": "code",
   "execution_count": 5,
   "metadata": {},
   "outputs": [],
   "source": [
    "data2 = getInputData(\"input2.txt\")"
   ]
  },
  {
   "cell_type": "markdown",
   "metadata": {},
   "source": [
    "### Parte 1"
   ]
  },
  {
   "cell_type": "code",
   "execution_count": 6,
   "metadata": {},
   "outputs": [
    {
     "name": "stdout",
     "output_type": "stream",
     "text": [
      "El número de contraseñas válidas es: 666\n"
     ]
    }
   ],
   "source": [
    "validPassword = 0\n",
    "for password in data2:\n",
    "    policyPasswordSplit = password.split(\":\")\n",
    "    policy = policyPasswordSplit[0]\n",
    "    password = policyPasswordSplit[1]\n",
    "    \n",
    "    minCant, maxCant = policy.split(\" \")[0].split(\"-\")\n",
    "    minCant, maxCant = int(minCant), int(maxCant)\n",
    "    \n",
    "    letter = policy.split(\" \")[1]\n",
    "    countLetter = 0\n",
    "    for character in password:\n",
    "        if character == letter: \n",
    "            countLetter += 1\n",
    "    if (countLetter >= minCant and countLetter <= maxCant): \n",
    "        validPassword += 1\n",
    "    \n",
    "print(f\"El número de contraseñas válidas es: {validPassword}\")"
   ]
  },
  {
   "cell_type": "markdown",
   "metadata": {},
   "source": [
    "### Parte 2"
   ]
  },
  {
   "cell_type": "code",
   "execution_count": 7,
   "metadata": {},
   "outputs": [
    {
     "name": "stdout",
     "output_type": "stream",
     "text": [
      "El número de contraseñas válidas es: 670\n"
     ]
    }
   ],
   "source": [
    "validPassword = 0\n",
    "for password in data2:\n",
    "    policyPasswordSplit = password.split(\":\")\n",
    "    policy = policyPasswordSplit[0]\n",
    "    password = list(policyPasswordSplit[1].strip())\n",
    "    \n",
    "    pos1, pos2 = policy.split(\" \")[0].split(\"-\")\n",
    "    pos1, pos2 = int(pos1), int(pos2)\n",
    "    \n",
    "    letter = policy.split(\" \")[1]\n",
    "    \n",
    "    if password[pos1 - 1] == letter and password[pos2 - 1] != letter:\n",
    "        validPassword += 1\n",
    "    if password[pos1 - 1] != letter and password[pos2 - 1] == letter:\n",
    "        validPassword += 1\n",
    "        \n",
    "print(f\"El número de contraseñas válidas es: {validPassword}\")"
   ]
  }
 ],
 "metadata": {
  "kernelspec": {
   "display_name": "Python 3",
   "language": "python",
   "name": "python3"
  },
  "language_info": {
   "codemirror_mode": {
    "name": "ipython",
    "version": 3
   },
   "file_extension": ".py",
   "mimetype": "text/x-python",
   "name": "python",
   "nbconvert_exporter": "python",
   "pygments_lexer": "ipython3",
   "version": "3.8.5"
  }
 },
 "nbformat": 4,
 "nbformat_minor": 4
}
