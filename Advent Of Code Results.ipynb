{
 "cells": [
  {
   "cell_type": "code",
   "execution_count": 1,
   "metadata": {},
   "outputs": [],
   "source": [
    "def getInputData(filename):\n",
    "    with open (\"Input/\"+filename, \"r\", encoding=\"utf-8\") as file:\n",
    "        data = [x.strip() for x in file.readlines()]\n",
    "    return data"
   ]
  },
  {
   "cell_type": "markdown",
   "metadata": {},
   "source": [
    "## Día 1"
   ]
  },
  {
   "cell_type": "code",
   "execution_count": 2,
   "metadata": {},
   "outputs": [],
   "source": [
    "data1 = getInputData(\"input1.txt\")\n",
    "data1 = [int(x) for x in data1]"
   ]
  },
  {
   "cell_type": "markdown",
   "metadata": {},
   "source": [
    "### Parte 1"
   ]
  },
  {
   "cell_type": "code",
   "execution_count": 3,
   "metadata": {},
   "outputs": [
    {
     "name": "stdout",
     "output_type": "stream",
     "text": [
      "El resultado es: 482811\n"
     ]
    }
   ],
   "source": [
    "for item in data1:\n",
    "    complementary = 2020 - item\n",
    "    if complementary in data1:\n",
    "        print(f\"El resultado es: {item * complementary}\")\n",
    "        break"
   ]
  },
  {
   "cell_type": "markdown",
   "metadata": {},
   "source": [
    "### Parte 2"
   ]
  },
  {
   "cell_type": "code",
   "execution_count": 4,
   "metadata": {},
   "outputs": [
    {
     "name": "stdout",
     "output_type": "stream",
     "text": [
      "El resultado es: 193171814\n",
      "El resultado es: 193171814\n",
      "El resultado es: 193171814\n",
      "El resultado es: 193171814\n",
      "El resultado es: 193171814\n",
      "El resultado es: 193171814\n"
     ]
    }
   ],
   "source": [
    "for item1 in data1:\n",
    "    for item2 in data1:\n",
    "        for item3 in data1:\n",
    "            if item1 + item2 + item3 == 2020:\n",
    "                print(f\"El resultado es: {item1 * item2 * item3}\")"
   ]
  }
 ],
 "metadata": {
  "kernelspec": {
   "display_name": "Python 3",
   "language": "python",
   "name": "python3"
  },
  "language_info": {
   "codemirror_mode": {
    "name": "ipython",
    "version": 3
   },
   "file_extension": ".py",
   "mimetype": "text/x-python",
   "name": "python",
   "nbconvert_exporter": "python",
   "pygments_lexer": "ipython3",
   "version": "3.8.5"
  }
 },
 "nbformat": 4,
 "nbformat_minor": 4
}
